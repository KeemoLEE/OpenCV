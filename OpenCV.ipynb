{
 "cells": [
  {
   "cell_type": "code",
   "execution_count": 2,
   "id": "bacbf420-68b0-4f84-a11c-1e3c567535e7",
   "metadata": {},
   "outputs": [
    {
     "data": {
      "text/plain": [
       "'4.9.0'"
      ]
     },
     "execution_count": 2,
     "metadata": {},
     "output_type": "execute_result"
    }
   ],
   "source": [
    "import cv2\n",
    "cv2.__version__"
   ]
  },
  {
   "cell_type": "markdown",
   "id": "bfcad1cd-d63b-40de-9298-329af90d18de",
   "metadata": {},
   "source": [
    "## 그림출력"
   ]
  },
  {
   "cell_type": "code",
   "execution_count": null,
   "id": "adb32503-0811-4429-80bc-297af0b427c0",
   "metadata": {},
   "outputs": [],
   "source": [
    "img=cv2.imread(\"dog.jpeg\")  # shift+tap 도움말, 기본채널 3\n",
    "img.shape"
   ]
  },
  {
   "cell_type": "code",
   "execution_count": null,
   "id": "a270c993-0932-41e8-9a04-9692310d7dba",
   "metadata": {},
   "outputs": [],
   "source": [
    "#채널 0\n",
    "#img_gray=cv2.imread(\"dog.jpeg\", 0)\n",
    "img_gray=cv2.imread(\"dog.jpeg\", cv2.IMREAD_GRAYSCALE)\n",
    "img_gray.shape"
   ]
  },
  {
   "cell_type": "code",
   "execution_count": null,
   "id": "8ada7daa-7559-4ba6-b0e2-082809ec5754",
   "metadata": {},
   "outputs": [],
   "source": [
    "#cv2.namedWindow(\"test\")\n",
    "cv2.namedWindow(\"Title\", cv2.WINDOW_NORMAL)   # 창크기조절가능 창을 만든다.\n",
    "cv2.imshow(\"Title\",img)     # 이미지를 보여라라\n",
    "cv2.waitKey(0)             # 무한정 기다림(키가 눌러질때까지)\n",
    "# cv2.waitKey(5000)          # 5초 기다림(키가 눌러질때까지)\n",
    "cv2.destroyAllWindows()    # 종료(모든창을 닫아라)"
   ]
  },
  {
   "cell_type": "markdown",
   "id": "212b885d-fa0b-4c48-9dd7-ee6a6e15e37b",
   "metadata": {},
   "source": [
    "## 그림저장"
   ]
  },
  {
   "cell_type": "code",
   "execution_count": null,
   "id": "281696fb-4395-4b2a-9b9f-456fe974a9ee",
   "metadata": {},
   "outputs": [],
   "source": [
    "cv2.imwrite(\"nnn.jpg\",img)"
   ]
  },
  {
   "cell_type": "markdown",
   "id": "9c61200f-7db2-43e2-aab9-d31b759db142",
   "metadata": {},
   "source": [
    "## 픽셀값 수정"
   ]
  },
  {
   "cell_type": "code",
   "execution_count": null,
   "id": "dbc79ba2-e788-4341-8199-8b336cb4adc4",
   "metadata": {},
   "outputs": [],
   "source": [
    "img[50,50]      # 특정위치의 BGR 색상 정보 [y좌표, x좌표]  / 그림 왼쪽 상단이 0,0"
   ]
  },
  {
   "cell_type": "code",
   "execution_count": null,
   "id": "cdda0d47-febb-4836-acec-3d148271720c",
   "metadata": {},
   "outputs": [],
   "source": [
    "img=cv2.imread(\"dog.jpeg\")\n",
    "\n",
    "for i in range(554):      # 한 줄의 색상을 변경\n",
    "    img[50,i]=[0,0,255]\n",
    "    \n",
    "cv2.imshow(\"Tilte\", img)\n",
    "cv2.waitKey(0)\n",
    "cv2.destroyAllWindows()"
   ]
  },
  {
   "cell_type": "markdown",
   "id": "d52ef029-8a71-4607-984a-988555564e19",
   "metadata": {},
   "source": [
    "## 그림 잘라내기"
   ]
  },
  {
   "cell_type": "code",
   "execution_count": null,
   "id": "7d43980e-f989-46e2-9881-2536f7aaa5e9",
   "metadata": {},
   "outputs": [],
   "source": [
    "img=cv2.imread(\"dog.jpeg\")\n",
    "\n",
    "cut_img=img[100:350,50:200]  # cut x: 50~200 y:100~350\n",
    "\n",
    "cv2.imshow(\"Tilte\", img) \n",
    "cv2.imshow(\"Cut Image\", cut_img)\n",
    "cv2.waitKey(0)\n",
    "cv2.destroyAllWindows()"
   ]
  },
  {
   "cell_type": "markdown",
   "id": "5b3582c3-bdcf-48f6-b308-326c5d7ba536",
   "metadata": {},
   "source": [
    "## 그림 창 크기 지정"
   ]
  },
  {
   "cell_type": "code",
   "execution_count": null,
   "id": "f58a11d3-6abc-461c-b7ba-c9b95fba431a",
   "metadata": {},
   "outputs": [],
   "source": [
    "img=cv2.imread(\"dog.jpeg\")\n",
    "\n",
    "cv2.namedWindow(\"test\", cv2.WINDOW_NORMAL)   # 창 크기조절가능 창을 만든다.\n",
    "cv2.resizeWindow(\"test\", width=100, height=200) #창 크기를 지정한다.\n",
    "\n",
    "cv2.imshow(\"test\", img)\n",
    "cv2.waitKey(0)\n",
    "cv2.destroyAllWindows()"
   ]
  },
  {
   "cell_type": "markdown",
   "id": "922c8356-28aa-4400-9c2e-38dd72b41668",
   "metadata": {},
   "source": [
    "## 그림크기 변경"
   ]
  },
  {
   "cell_type": "code",
   "execution_count": null,
   "id": "34ee2f7d-8b47-4700-99b9-1022cb911c45",
   "metadata": {},
   "outputs": [],
   "source": [
    "img=cv2.imread(\"dog.jpeg\")\n",
    "\n",
    "img=cv2.resize(img,(200,200))  # 그림 크기 변경\n",
    "\n",
    "cv2.imshow(\"Tilte\", img) \n",
    "cv2.waitKey(0)\n",
    "cv2.destroyAllWindows()"
   ]
  },
  {
   "cell_type": "markdown",
   "id": "5b7f8581-c610-4dcc-a5f7-01845d8e1b45",
   "metadata": {},
   "source": [
    "## 도형, 글자 삽입\n",
    "\n",
    "### 선그리기"
   ]
  },
  {
   "cell_type": "code",
   "execution_count": null,
   "id": "e53a7e9c-3b7d-4f44-b1b5-ffd23e2fc59e",
   "metadata": {},
   "outputs": [],
   "source": [
    "img=cv2.imread(\"dog.jpeg\")\n",
    "\n",
    "print(img.shape)\n",
    "img=cv2.line(img,(50,260),(220,260),(0,0,255),3)  # 그림에서 좌표는 (x,y)\n",
    "# line(그림, (첫번째 점), (두번째 점),(색상), 두께)\n",
    "cv2.imshow(\"Line\", img) \n",
    "cv2.waitKey(0)\n",
    "cv2.destroyAllWindows()"
   ]
  },
  {
   "cell_type": "markdown",
   "id": "05807054-1b92-430e-b60f-13d872c69826",
   "metadata": {},
   "source": [
    "### 원"
   ]
  },
  {
   "cell_type": "code",
   "execution_count": null,
   "id": "7a657545-bd3c-424d-abab-537883159384",
   "metadata": {},
   "outputs": [],
   "source": [
    "img=cv2.imread(\"dog.jpeg\")\n",
    "\n",
    "print(img.shape)\n",
    "img=cv2.circle(img,(410,250),65,(0,0,255),-1)  # 그림에서 좌표는 (x,y)\n",
    "# line(그림, (첫번째 점), 반지름 , (색상), 두께)  # 두께가 -1이면 채기기\n",
    "cv2.imshow(\"Line\", img) \n",
    "cv2.waitKey(0)\n",
    "cv2.destroyAllWindows()"
   ]
  },
  {
   "cell_type": "markdown",
   "id": "8c02fc0e-026e-4791-9866-c85f02f78a72",
   "metadata": {},
   "source": [
    "### 사각형"
   ]
  },
  {
   "cell_type": "code",
   "execution_count": null,
   "id": "784e62a6-9dc6-42a7-9a32-1e6ed2e0668f",
   "metadata": {},
   "outputs": [],
   "source": [
    "img=cv2.imread(\"dog.jpeg\")\n",
    "\n",
    "print(img.shape)\n",
    "img=cv2.rectangle(img,(100,100),(200,150),(0,0,255),3)  # 그림에서 좌표는 (x,y)\n",
    "# line(그림, (왼쪽 위 시작점), (오른쪽 아래점) , (색상), 두께)  # 두께가 -1이면 채우기\n",
    "cv2.imshow(\"Line\", img) \n",
    "cv2.waitKey(0)\n",
    "cv2.destroyAllWindows()"
   ]
  },
  {
   "cell_type": "markdown",
   "id": "6c93d8ef-7db8-40ec-9411-598f1199eaa0",
   "metadata": {},
   "source": [
    "### 글자"
   ]
  },
  {
   "cell_type": "code",
   "execution_count": null,
   "id": "ea24a302-d6d2-4f89-b8d5-c9d1aa14b8ce",
   "metadata": {},
   "outputs": [],
   "source": [
    "img=cv2.imread(\"dog.jpeg\")\n",
    "\n",
    "print(img.shape)\n",
    "img=cv2.putText(img, 'OpenCV!',(50,100), cv2.FONT_HERSHEY_SIMPLEX,2,(255,255,255),3)\n",
    "# line(그림, 글자, (왼쪽 아래 시작점), 폰트 , 크기, (색상), 굵기) \n",
    "cv2.imshow(\"Line\", img) \n",
    "cv2.waitKey(0)\n",
    "cv2.destroyAllWindows()"
   ]
  },
  {
   "cell_type": "markdown",
   "id": "8ee3c268-0067-4883-9569-557a5a27ea35",
   "metadata": {},
   "source": [
    "### 이미지 덮어쓰기"
   ]
  },
  {
   "cell_type": "code",
   "execution_count": 2,
   "id": "b74eac7a-fd59-47c9-9da2-20e287d8b816",
   "metadata": {},
   "outputs": [],
   "source": [
    "import cv2\n",
    "cv2.namedWindow('new image', cv2.WINDOW_NORMAL)\n",
    "bg=cv2.imread('bg.jpg')\n",
    "bg=cv2.resize(bg,(1500,1500))  # 그림 크기 변경\n",
    "cv2.rectangle(bg,(400,300),(1100,1200),(0,0,255),3)\n",
    "cv2.imshow('new image',bg)\n",
    "cv2.waitKey(0)\n",
    "cv2.destroyAllWindows()"
   ]
  },
  {
   "cell_type": "code",
   "execution_count": 2,
   "id": "6a83b804-2a1d-47bf-8bd8-f54fd3ffc3a7",
   "metadata": {},
   "outputs": [
    {
     "name": "stdout",
     "output_type": "stream",
     "text": [
      "(1364, 2442, 3)\n",
      "(554, 554, 3)\n"
     ]
    }
   ],
   "source": [
    "img=cv2.imread('dog.jpeg')\n",
    "bg=cv2.imread('bg.jpg')\n",
    "print(bg.shape)\n",
    "print(img.shape)"
   ]
  },
  {
   "cell_type": "code",
   "execution_count": 4,
   "id": "260a499e-c954-45bc-a5c6-1d68e8c874e3",
   "metadata": {
    "scrolled": true
   },
   "outputs": [],
   "source": [
    "cv2.namedWindow('new image', cv2.WINDOW_NORMAL)\n",
    "bg=cv2.imread('bg.jpg')\n",
    "bg=cv2.resize(bg,(1500,1500))  # 그림 크기 변경\n",
    "\n",
    "# cv2.rectangle(bg,(400,300),(1100,1200),(0,0,255),3)\n",
    "\n",
    "img=cv2.imread('dog.jpeg')\n",
    "img=cv2.resize(img,(700,1050))\n",
    "\n",
    "bg[300:1350,400:1100]=img\n",
    "cv2.imshow('new image',bg)\n",
    "cv2.waitKey(0)\n",
    "cv2.destroyAllWindows()"
   ]
  },
  {
   "cell_type": "markdown",
   "id": "dc42c9d8-0962-46f0-a104-84b1e3546688",
   "metadata": {},
   "source": [
    "### 영상출력"
   ]
  },
  {
   "cell_type": "code",
   "execution_count": 1,
   "id": "1da85ab5-5b34-4c1d-90f2-40b27695350c",
   "metadata": {},
   "outputs": [],
   "source": [
    "import cv2\n",
    "cam=cv2.VideoCapture(0)\n",
    "# 0.033초마다 화면에 사진을 불러와 보여줌\n",
    "while cv2.waitKey(33)<0:  \n",
    "    ret, frame=cam.read()\n",
    "    cv2.imshow('video',frame)\n",
    "\n",
    "cam.release()\n",
    "cv2.destroyAllWindows()"
   ]
  },
  {
   "cell_type": "code",
   "execution_count": 2,
   "id": "f3f3fa25-e71a-4630-8c5a-757dcc94f00e",
   "metadata": {},
   "outputs": [],
   "source": [
    "import cv2\n",
    "cam=cv2.VideoCapture(0)\n",
    "# 0.033초마다 화면에 사진을 불러와 보여줌 (초당 33장의 사진을 보여주기 위해)\n",
    "while True:\n",
    "    ret, frame=cam.read()\n",
    "    cv2.imshow('video',frame)\n",
    "    if cv2.waitKey(33)==27:         # ESC 키를 누르면\n",
    "    # if cv2.waitKey(33)==ord('q'):\n",
    "        break\n",
    "\n",
    "cam.release()\n",
    "cv2.destroyAllWindows()"
   ]
  },
  {
   "cell_type": "code",
   "execution_count": 1,
   "id": "2da4001c-1393-4dac-b2c4-096ec5abe9d0",
   "metadata": {},
   "outputs": [],
   "source": [
    "import cv2\n",
    "cam=cv2.VideoCapture(0)\n",
    "# 0.033초마다 화면에 사진을 불러와 보여줌 (초당 33장의 사진을 보여주기 위해)\n",
    "cv2.namedWindow('video', cv2.WINDOW_NORMAL)\n",
    "bg=cv2.imread('bg.jpg')\n",
    "bg=cv2.resize(bg,(1500,1500))  # 그림 크기 변경\n",
    "\n",
    "while True:\n",
    "    ret, frame=cam.read()\n",
    "    frame=cv2.resize(frame,(700,1050))\n",
    "    bg[300:1350,400:1100]=frame\n",
    "    cv2.imshow('video',bg)\n",
    "    if cv2.waitKey(33)==27:         # ESC 키를 누르면\n",
    "    # if cv2.waitKey(33)==ord('q'):\n",
    "        break\n",
    "\n",
    "cam.release()\n",
    "cv2.destroyAllWindows()"
   ]
  }
 ],
 "metadata": {
  "kernelspec": {
   "display_name": "Python 3 (ipykernel)",
   "language": "python",
   "name": "python3"
  },
  "language_info": {
   "codemirror_mode": {
    "name": "ipython",
    "version": 3
   },
   "file_extension": ".py",
   "mimetype": "text/x-python",
   "name": "python",
   "nbconvert_exporter": "python",
   "pygments_lexer": "ipython3",
   "version": "3.11.8"
  }
 },
 "nbformat": 4,
 "nbformat_minor": 5
}
